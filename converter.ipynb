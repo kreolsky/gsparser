{
 "cells": [
  {
   "cell_type": "markdown",
   "metadata": {},
   "source": [
    "### Параметры конвертора"
   ]
  },
  {
   "cell_type": "markdown",
   "metadata": {},
   "source": [
    "- br_list: Тип скобок выделяющих списки. '[]' - по умолчанию. **ВАЖНО!** Нельзя переопределять значение по умолчанию! Внутри допустима любая вложенность, но исключительно в синтаксисе python.\n",
    "- br_block: Тип скобок выделяющих подблоки. '{}' - по умолчанию.\n",
    "- sep_func: Разделитель указания функций. '!' - по умолчанию. Например: key!list означает, что содержимое ключа key обязательно будет списком.\n",
    "- sep_block: Синтаксический сахар для разделения блоков. '|' - по умолчанию.\n",
    "- sep_base: Базовый разделитель элементов. ',' - по умолчанию.\n",
    "- sep_dict: Разделитель ключ-значение элементов словаря. '=' - по умолчанию.\n",
    "- raw_pattern': Символ маркирующий строку которую не нужно разбирать. '\"' (двойная кавычка) - по умолчанию. Строка которую не нужно разбирать должна быть обрамлена этим символом с обеих сторон.\n",
    "- to_num: Нужно ли пытаться преобразовывать значения в числа. True - по умолчанию.\n",
    "- parser_version: 'v1' -- Версия парсера\n",
    "    - 'v1' -- (по умолчанию) Все словари всегда будут **ЗАВЕРНУТЫ** в список!\n",
    "    - 'v2' -- Разворачивает все списки единичной длины. Для заворачивания необходимо указать в ключе команду '!list' или [] (синтаксический сахар).\n",
    "- is_raw: Указание надо ли парсить строку или нет. False - по умолчанию.\n"
   ]
  },
  {
   "cell_type": "markdown",
   "metadata": {},
   "source": [
    "### Команды парсера 'v2'"
   ]
  },
  {
   "cell_type": "markdown",
   "metadata": {},
   "source": [
    "- list - заворачивает содержимое в список только если это не список\n",
    "- dlist - заворачивает словари в список\n",
    "- flist - всегда заворачивает в дополнительный список, даже списки!"
   ]
  },
  {
   "cell_type": "markdown",
   "metadata": {},
   "source": [
    "### Тестовые сценарии конвертора"
   ]
  },
  {
   "cell_type": "code",
   "execution_count": 2,
   "metadata": {},
   "outputs": [
    {
     "name": "stdout",
     "output_type": "stream",
     "text": [
      "==============================\n",
      "v1: Actions_1 = {none}, Actions_2 = none\n",
      "{\n",
      "    \"Actions_1\": [],\n",
      "    \"Actions_2\": null\n",
      "}\n",
      "{\n",
      "    \"Actions_1\": null,\n",
      "    \"Actions_2\": null\n",
      "}\n",
      "v1. Всего ошибок: 1\n",
      "v2. Всего ошибок: 0\n"
     ]
    }
   ],
   "source": [
    "import json\n",
    "import gsparser\n",
    "\n",
    "with open(\"converter_test_cases.json\", \"r\") as f:\n",
    "    cases = json.load(f)\n",
    "\n",
    "\n",
    "params = {\n",
    "    'br_list': '[]',\n",
    "    'br_block': '{}',\n",
    "    'sep_func': '!',\n",
    "    'sep_block': '|',\n",
    "    'sep_base': ',',\n",
    "    'sep_dict': '=',\n",
    "    'raw_pattern': '\"',\n",
    "    'to_num': True,\n",
    "    'always_unwrap': False,\n",
    "    'parser_version': 'v1',\n",
    "    'is_raw': False\n",
    "    }\n",
    "\n",
    "for case in cases:\n",
    "    error_count = 0\n",
    "    for s_in, s_out in case['data']:\n",
    "\n",
    "        params['parser_version'] = case['version']\n",
    "        converter = gsparser.ConfigJSONConverter(params)\n",
    "        result = converter.jsonify(s_in)\n",
    "\n",
    "        try:\n",
    "            assert json.dumps(result) == json.dumps(s_out)\n",
    "        except AssertionError:\n",
    "            error_count += 1\n",
    "            print('='*30)\n",
    "            print(f'{case[\"version\"]}: {s_in}')\n",
    "            print(json.dumps(result, indent = 4))\n",
    "            print(json.dumps(s_out, indent = 4))\n",
    "    else:\n",
    "        print(f'{case[\"version\"]}. Всего ошибок: {error_count}')\n"
   ]
  },
  {
   "cell_type": "code",
   "execution_count": 2,
   "metadata": {},
   "outputs": [
    {
     "name": "stdout",
     "output_type": "stream",
     "text": [
      "[\n",
      "    0,\n",
      "    {\n",
      "        \"grade\": [\n",
      "            {\n",
      "                \"chips\": 20,\n",
      "                \"grade\": 6\n",
      "            }\n",
      "        ]\n",
      "    },\n",
      "    1,\n",
      "    {\n",
      "        \"chips\": 20,\n",
      "        \"grade\": 6\n",
      "    },\n",
      "    2,\n",
      "    3,\n",
      "    {\n",
      "        \"chips\": 40,\n",
      "        \"grade\": 8\n",
      "    },\n",
      "    99,\n",
      "    55\n",
      "]\n"
     ]
    }
   ],
   "source": [
    "from gsparser import ConfigJSONConverter\n",
    "import json\n",
    "\n",
    "test_strings = [\n",
    "    '0, {grade = {chips = 20, grade = 6}}, 1, {chips = 20, grade = 6}, 2, 3, {chips = 40, grade = 8}, 99, 55',\n",
    "    # '{chips = 10, grade = 5}, {gold = 20, grade = 6}',\n",
    "    # '5, {chips = 10, grade = 5}, {chips = 20, grade = 6}',\n",
    "    # 'chips = 10, grade = 5',\n",
    "    # 'chips = 10, grade = 5,  {chips = 20, grade = 6}',\n",
    "    # 'chips = 10 | grade = 5',\n",
    "    # 'chips = 10, grade = {chips = 20, grade = 6}',\n",
    "    # 'Actions_1 = {none}, Actions_2 = none',\n",
    "    # 'prob = nan, items = {0, {grade = {chips = 20, grade = 6}}, 1, {chips = 20, grade = 6}, 2, 3, {chips = 40, grade = 8}, 99, 55}',\n",
    "    # '9.1, 6.0, 6 | 7 = 7, zero = 0, one, two = {2 = chhose one}, tree = {{2 = dva}, {3 = tree}} | a, b, f'\n",
    "]\n",
    "\n",
    "params = {\n",
    "    'br_list': '[]',\n",
    "    'br_block': '{}',\n",
    "    'sep_func': '!',\n",
    "    'sep_block': '|',\n",
    "    'sep_base': ',',\n",
    "    'sep_dict': '=',\n",
    "    'raw_pattern': '\"',\n",
    "    'to_num': True,\n",
    "    'parser_version': 'v1',\n",
    "    'is_raw': False\n",
    "    }\n",
    "converter = ConfigJSONConverter(params)\n",
    "\n",
    "for s in test_strings:\n",
    "    print(json.dumps(converter.jsonify(s), indent=4))\n",
    "\n",
    "\n"
   ]
  }
 ],
 "metadata": {
  "kernelspec": {
   "display_name": "llm",
   "language": "python",
   "name": "python3"
  },
  "language_info": {
   "codemirror_mode": {
    "name": "ipython",
    "version": 3
   },
   "file_extension": ".py",
   "mimetype": "text/x-python",
   "name": "python",
   "nbconvert_exporter": "python",
   "pygments_lexer": "ipython3",
   "version": "3.11.7"
  }
 },
 "nbformat": 4,
 "nbformat_minor": 2
}
